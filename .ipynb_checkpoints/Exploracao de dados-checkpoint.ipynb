{
 "cells": [
  {
   "cell_type": "code",
   "execution_count": 1,
   "id": "8f9e462e",
   "metadata": {},
   "outputs": [],
   "source": [
    "import pandas as pd\n",
    "from glob import glob\n",
    "import seaborn as sns\n",
    "import matplotlib.pyplot as plt\n",
    "%matplotlib inline"
   ]
  },
  {
   "cell_type": "markdown",
   "id": "8371a330",
   "metadata": {},
   "source": [
    "# Exploração e limpeza de dados"
   ]
  },
  {
   "cell_type": "code",
   "execution_count": 2,
   "id": "494bb2c3",
   "metadata": {},
   "outputs": [],
   "source": [
    "arquivos = sorted(glob('BaseDados/dados-abertos-*.csv'))"
   ]
  },
  {
   "cell_type": "code",
   "execution_count": 3,
   "id": "cf7cc128",
   "metadata": {},
   "outputs": [],
   "source": [
    "i = range(1,10)"
   ]
  },
  {
   "cell_type": "code",
   "execution_count": null,
   "id": "f8ece637",
   "metadata": {},
   "outputs": [],
   "source": []
  },
  {
   "cell_type": "code",
   "execution_count": 4,
   "id": "a583c13b",
   "metadata": {},
   "outputs": [],
   "source": [
    "dados = pd.concat((pd.read_csv(arquivo, \n",
    "                               sep = ';', \n",
    "                               encoding = 'utf-8', \n",
    "                               dtype='unicode') for arquivo in arquivos), \n",
    "                      ignore_index=True)"
   ]
  },
  {
   "cell_type": "code",
   "execution_count": 5,
   "id": "251b3988",
   "metadata": {},
   "outputs": [
    {
     "name": "stdout",
     "output_type": "stream",
     "text": [
      "<class 'pandas.core.frame.DataFrame'>\n",
      "RangeIndex: 1070670 entries, 0 to 1070669\n",
      "Data columns (total 13 columns):\n",
      " #   Column                   Non-Null Count    Dtype \n",
      "---  ------                   --------------    ----- \n",
      " 0   tipo_infracao            1070670 non-null  object\n",
      " 1   descricao                1070670 non-null  object\n",
      " 2   tipo_infrator            1070670 non-null  object\n",
      " 3   tipo_veiculo             1070623 non-null  object\n",
      " 4   cometimento              1070670 non-null  object\n",
      " 5   hora_cometimento         1070670 non-null  object\n",
      " 6   auinf_local_rodovia      1070351 non-null  object\n",
      " 7   auinf_local_km           196942 non-null   object\n",
      " 8   auinf_local_referencia   188953 non-null   object\n",
      " 9   auinf_local_complemento  30079 non-null    object\n",
      " 10  auinf_local_latitude     185666 non-null   object\n",
      " 11  auinf_local_longitude    185666 non-null   object\n",
      " 12  grav_tipo                1070670 non-null  object\n",
      "dtypes: object(13)\n",
      "memory usage: 106.2+ MB\n"
     ]
    }
   ],
   "source": [
    "dados.info()"
   ]
  },
  {
   "cell_type": "markdown",
   "id": "bf249c1b",
   "metadata": {},
   "source": [
    "<b>Eliminando as colunas que não serão utilizadas no relatório</b>"
   ]
  },
  {
   "cell_type": "code",
   "execution_count": 6,
   "id": "074acda8",
   "metadata": {},
   "outputs": [],
   "source": [
    "dados.drop(columns=['auinf_local_km', \n",
    "                    'auinf_local_referencia', \n",
    "                    'auinf_local_complemento', \n",
    "                    'auinf_local_latitude', \n",
    "                    'auinf_local_longitude'],\n",
    "           inplace=True)"
   ]
  },
  {
   "cell_type": "markdown",
   "id": "6d192a9d",
   "metadata": {},
   "source": [
    "<b>Limpando dados da coluna tipo_veiculo</b>"
   ]
  },
  {
   "cell_type": "code",
   "execution_count": 7,
   "id": "102359f7",
   "metadata": {},
   "outputs": [],
   "source": [
    "dados.tipo_veiculo = dados.tipo_veiculo.str.title()\n",
    "dados.tipo_veiculo = dados.tipo_veiculo.str.strip()"
   ]
  },
  {
   "cell_type": "code",
   "execution_count": 8,
   "id": "2886ef65",
   "metadata": {},
   "outputs": [],
   "source": [
    "veiculo = ['Automóvel', 'Trator', 'Caminhão', 'Caminhonete', 'Microônibus', 'Utilitário', 'Semi-Reboque', 'Motorhome',\n",
    "         'Motocicleta', 'Ônibus', 'Outros Ciclomotores', 'Outros']\n",
    "\n",
    "correcao = [['Automovel'], ['C. Trator', 'Caminhao Trator', 'Caminhão Trator'], ['Caminhao'], ['Caminhonet', 'Camioneta'],\n",
    "            ['Microonibu', 'Microonibus'], ['Utilitario'], ['S.Reboque'], ['Motor Casa', 'Motor-Casa'], ['Motociclet'],\n",
    "            ['Onibus'], ['Triciclo', 'Ciclomotor'], \n",
    "            ['Bonde', 'Carro-De-Mão', 'Charrete', 'Chassi Plataforma', 'Side-Car', 'Tr Misto', 'Tr Rodas']]\n",
    "\n",
    "for z in range(len(veiculo)):\n",
    "    dados['tipo_veiculo'].replace(correcao[z], veiculo[z], inplace=True)"
   ]
  },
  {
   "cell_type": "code",
   "execution_count": 9,
   "id": "0591580c",
   "metadata": {},
   "outputs": [],
   "source": [
    "dados.tipo_veiculo.fillna('Sem informação', inplace=True)"
   ]
  },
  {
   "cell_type": "code",
   "execution_count": 10,
   "id": "a4b97341",
   "metadata": {},
   "outputs": [
    {
     "data": {
      "text/plain": [
       "array(['Automóvel', 'Caminhonete', 'Motocicleta', 'Utilitário', 'Ônibus',\n",
       "       'Motoneta', 'Caminhão', 'Reboque', 'Microônibus', 'Trator',\n",
       "       'Semi-Reboque', 'Sem informação', 'Motorhome',\n",
       "       'Outros Ciclomotores', 'Outros', 'Bicicleta', 'Quadriciclo'],\n",
       "      dtype=object)"
      ]
     },
     "execution_count": 10,
     "metadata": {},
     "output_type": "execute_result"
    }
   ],
   "source": [
    "dados.tipo_veiculo.unique()"
   ]
  },
  {
   "cell_type": "markdown",
   "id": "7997657b",
   "metadata": {},
   "source": [
    "<b>Exportando dados para análise no Power BI</b>"
   ]
  },
  {
   "cell_type": "code",
   "execution_count": 13,
   "id": "d7db4453",
   "metadata": {},
   "outputs": [],
   "source": [
    "#dados.to_csv('arq_infracoes_bsb21.csv', index=False)"
   ]
  },
  {
   "cell_type": "markdown",
   "id": "fb460d16",
   "metadata": {},
   "source": [
    "# Análise estatística utilizando o Jupyter"
   ]
  },
  {
   "cell_type": "code",
   "execution_count": 48,
   "id": "150eedb1",
   "metadata": {},
   "outputs": [],
   "source": [
    "dados.cometimento = pd.to_datetime(dados.cometimento, format='%d/%m/%Y')"
   ]
  },
  {
   "cell_type": "code",
   "execution_count": 49,
   "id": "f537782d",
   "metadata": {},
   "outputs": [],
   "source": [
    "dias_pt = {0:'Segunda',\n",
    "           1:'Terça',\n",
    "           2:'Quarta',\n",
    "           3:'Quinta',\n",
    "           4:'Sexta',\n",
    "           5:'Sábado',\n",
    "           6:'Domingo'}\n",
    "dados['dias_da_semana'] = dados.cometimento.dt.weekday.map(dias_pt)"
   ]
  },
  {
   "cell_type": "code",
   "execution_count": 74,
   "id": "9171c03d",
   "metadata": {},
   "outputs": [],
   "source": [
    "horas_fim_de_semana = dados[(dados.dias_da_semana == 'Sábado') | \n",
    "                            (dados.dias_da_semana == 'Domingo')][\n",
    "                                ['hora_cometimento','dias_da_semana','tipo_infracao', 'descricao']]"
   ]
  },
  {
   "cell_type": "code",
   "execution_count": 75,
   "id": "731fbcae",
   "metadata": {},
   "outputs": [],
   "source": [
    "horas_fim_de_semana[['Hora', 'Minutos']] = horas_fim_de_semana.hora_cometimento.str.split(':', expand=True)"
   ]
  },
  {
   "cell_type": "code",
   "execution_count": 76,
   "id": "584d5666",
   "metadata": {},
   "outputs": [],
   "source": [
    "graf1 = horas_fim_de_semana.Hora.value_counts().sort_index()"
   ]
  },
  {
   "cell_type": "code",
   "execution_count": 265,
   "id": "b984f0b6",
   "metadata": {},
   "outputs": [
    {
     "data": {
      "text/html": [
       "<div>\n",
       "<style scoped>\n",
       "    .dataframe tbody tr th:only-of-type {\n",
       "        vertical-align: middle;\n",
       "    }\n",
       "\n",
       "    .dataframe tbody tr th {\n",
       "        vertical-align: top;\n",
       "    }\n",
       "\n",
       "    .dataframe thead th {\n",
       "        text-align: right;\n",
       "    }\n",
       "</style>\n",
       "<table border=\"1\" class=\"dataframe\">\n",
       "  <thead>\n",
       "    <tr style=\"text-align: right;\">\n",
       "      <th></th>\n",
       "      <th>hora_cometimento</th>\n",
       "      <th>dias_da_semana</th>\n",
       "      <th>tipo_infracao</th>\n",
       "      <th>descricao</th>\n",
       "      <th>Hora</th>\n",
       "      <th>Minutos</th>\n",
       "    </tr>\n",
       "  </thead>\n",
       "  <tbody>\n",
       "    <tr>\n",
       "      <th>2157</th>\n",
       "      <td>00:00</td>\n",
       "      <td>Sábado</td>\n",
       "      <td>7455-0</td>\n",
       "      <td>Transitar em velocidade superior à máxima perm...</td>\n",
       "      <td>00</td>\n",
       "      <td>00</td>\n",
       "    </tr>\n",
       "    <tr>\n",
       "      <th>2158</th>\n",
       "      <td>00:00</td>\n",
       "      <td>Sábado</td>\n",
       "      <td>7463-0</td>\n",
       "      <td>Transitar em velocidade superior à máxima perm...</td>\n",
       "      <td>00</td>\n",
       "      <td>00</td>\n",
       "    </tr>\n",
       "    <tr>\n",
       "      <th>2159</th>\n",
       "      <td>00:08</td>\n",
       "      <td>Sábado</td>\n",
       "      <td>7455-0</td>\n",
       "      <td>Transitar em velocidade superior à máxima perm...</td>\n",
       "      <td>00</td>\n",
       "      <td>08</td>\n",
       "    </tr>\n",
       "    <tr>\n",
       "      <th>2160</th>\n",
       "      <td>00:10</td>\n",
       "      <td>Sábado</td>\n",
       "      <td>6769-0</td>\n",
       "      <td>Conduzir veíc c/ defeito no sist de iluminação...</td>\n",
       "      <td>00</td>\n",
       "      <td>10</td>\n",
       "    </tr>\n",
       "    <tr>\n",
       "      <th>2161</th>\n",
       "      <td>00:12</td>\n",
       "      <td>Sábado</td>\n",
       "      <td>7455-0</td>\n",
       "      <td>Transitar em velocidade superior à máxima perm...</td>\n",
       "      <td>00</td>\n",
       "      <td>12</td>\n",
       "    </tr>\n",
       "    <tr>\n",
       "      <th>...</th>\n",
       "      <td>...</td>\n",
       "      <td>...</td>\n",
       "      <td>...</td>\n",
       "      <td>...</td>\n",
       "      <td>...</td>\n",
       "      <td>...</td>\n",
       "    </tr>\n",
       "    <tr>\n",
       "      <th>1057348</th>\n",
       "      <td>23:55</td>\n",
       "      <td>Domingo</td>\n",
       "      <td>7455-0</td>\n",
       "      <td>Transitar em velocidade superior à máxima perm...</td>\n",
       "      <td>23</td>\n",
       "      <td>55</td>\n",
       "    </tr>\n",
       "    <tr>\n",
       "      <th>1057349</th>\n",
       "      <td>23:56</td>\n",
       "      <td>Domingo</td>\n",
       "      <td>7455-0</td>\n",
       "      <td>Transitar em velocidade superior à máxima perm...</td>\n",
       "      <td>23</td>\n",
       "      <td>56</td>\n",
       "    </tr>\n",
       "    <tr>\n",
       "      <th>1057350</th>\n",
       "      <td>23:57</td>\n",
       "      <td>Domingo</td>\n",
       "      <td>7455-0</td>\n",
       "      <td>Transitar em velocidade superior à máxima perm...</td>\n",
       "      <td>23</td>\n",
       "      <td>57</td>\n",
       "    </tr>\n",
       "    <tr>\n",
       "      <th>1057351</th>\n",
       "      <td>23:58</td>\n",
       "      <td>Domingo</td>\n",
       "      <td>7455-0</td>\n",
       "      <td>Transitar em velocidade superior à máxima perm...</td>\n",
       "      <td>23</td>\n",
       "      <td>58</td>\n",
       "    </tr>\n",
       "    <tr>\n",
       "      <th>1057352</th>\n",
       "      <td>23:58</td>\n",
       "      <td>Domingo</td>\n",
       "      <td>7455-0</td>\n",
       "      <td>Transitar em velocidade superior à máxima perm...</td>\n",
       "      <td>23</td>\n",
       "      <td>58</td>\n",
       "    </tr>\n",
       "  </tbody>\n",
       "</table>\n",
       "<p>248175 rows × 6 columns</p>\n",
       "</div>"
      ],
      "text/plain": [
       "        hora_cometimento dias_da_semana tipo_infracao  \\\n",
       "2157               00:00         Sábado        7455-0   \n",
       "2158               00:00         Sábado        7463-0   \n",
       "2159               00:08         Sábado        7455-0   \n",
       "2160               00:10         Sábado        6769-0   \n",
       "2161               00:12         Sábado        7455-0   \n",
       "...                  ...            ...           ...   \n",
       "1057348            23:55        Domingo        7455-0   \n",
       "1057349            23:56        Domingo        7455-0   \n",
       "1057350            23:57        Domingo        7455-0   \n",
       "1057351            23:58        Domingo        7455-0   \n",
       "1057352            23:58        Domingo        7455-0   \n",
       "\n",
       "                                                 descricao Hora Minutos  \n",
       "2157     Transitar em velocidade superior à máxima perm...   00      00  \n",
       "2158     Transitar em velocidade superior à máxima perm...   00      00  \n",
       "2159     Transitar em velocidade superior à máxima perm...   00      08  \n",
       "2160     Conduzir veíc c/ defeito no sist de iluminação...   00      10  \n",
       "2161     Transitar em velocidade superior à máxima perm...   00      12  \n",
       "...                                                    ...  ...     ...  \n",
       "1057348  Transitar em velocidade superior à máxima perm...   23      55  \n",
       "1057349  Transitar em velocidade superior à máxima perm...   23      56  \n",
       "1057350  Transitar em velocidade superior à máxima perm...   23      57  \n",
       "1057351  Transitar em velocidade superior à máxima perm...   23      58  \n",
       "1057352  Transitar em velocidade superior à máxima perm...   23      58  \n",
       "\n",
       "[248175 rows x 6 columns]"
      ]
     },
     "execution_count": 265,
     "metadata": {},
     "output_type": "execute_result"
    }
   ],
   "source": [
    "horas_fim_de_semana"
   ]
  },
  {
   "cell_type": "code",
   "execution_count": 261,
   "id": "b0ceba7a",
   "metadata": {},
   "outputs": [],
   "source": [
    "graf2 = horas_fim_de_semana.query(\"tipo_infracao == '7579-0'\").Hora.value_counts().sort_index()"
   ]
  },
  {
   "cell_type": "code",
   "execution_count": 262,
   "id": "b1732031",
   "metadata": {},
   "outputs": [
    {
     "data": {
      "image/png": "[encoded data removed]",
      "text/plain": [
       "<Figure size 1008x576 with 2 Axes>"
      ]
     },
     "metadata": {
      "needs_background": "light"
     },
     "output_type": "display_data"
    }
   ],
   "source": [
    "fig, axs = plt.subplots(2,sharex=True, figsize=(14,8))\n",
    "plt.subplots_adjust(wspace=0.25, hspace=0.25)\n",
    "\n",
    "axs[0].plot(graf1.index, graf1.values,c='navy' )\n",
    "axs[0].set_title('Autos registrados nos finais de semana')\n",
    "axs[0].set_ylabel('Autos registrados')\n",
    "\n",
    "axs[1].plot(graf2.index, graf2.values,c='tomato')\n",
    "axs[1].set_title('Infrações de negar-se a realizar exame, nos finais de semana')\n",
    "axs[1].set_ylabel('Autos registrados')\n",
    "axs[1].set_xlabel('Horário')\n",
    "\n",
    "plt.show()"
   ]
  },
  {
   "cell_type": "code",
   "execution_count": 522,
   "id": "8c84b4d2",
   "metadata": {
    "scrolled": true
   },
   "outputs": [
    {
     "data": {
      "text/html": [
       "<div>\n",
       "<style scoped>\n",
       "    .dataframe tbody tr th:only-of-type {\n",
       "        vertical-align: middle;\n",
       "    }\n",
       "\n",
       "    .dataframe tbody tr th {\n",
       "        vertical-align: top;\n",
       "    }\n",
       "\n",
       "    .dataframe thead th {\n",
       "        text-align: right;\n",
       "    }\n",
       "</style>\n",
       "<table border=\"1\" class=\"dataframe\">\n",
       "  <thead>\n",
       "    <tr style=\"text-align: right;\">\n",
       "      <th></th>\n",
       "      <th>total</th>\n",
       "      <th>negar_exame</th>\n",
       "    </tr>\n",
       "  </thead>\n",
       "  <tbody>\n",
       "    <tr>\n",
       "      <th>total</th>\n",
       "      <td>1.00000</td>\n",
       "      <td>-0.29616</td>\n",
       "    </tr>\n",
       "    <tr>\n",
       "      <th>negar_exame</th>\n",
       "      <td>-0.29616</td>\n",
       "      <td>1.00000</td>\n",
       "    </tr>\n",
       "  </tbody>\n",
       "</table>\n",
       "</div>"
      ],
      "text/plain": [
       "               total  negar_exame\n",
       "total        1.00000     -0.29616\n",
       "negar_exame -0.29616      1.00000"
      ]
     },
     "execution_count": 522,
     "metadata": {},
     "output_type": "execute_result"
    }
   ],
   "source": [
    "autos_fds = graf1.to_frame('total')\n",
    "autos_fds['negar_exame'] = graf2\n",
    "correlacao = autos_fds.corr('pearson')\n",
    "correlacao"
   ]
  },
  {
   "cell_type": "code",
   "execution_count": 523,
   "id": "b2c4bb03",
   "metadata": {
    "scrolled": true
   },
   "outputs": [
    {
     "data": {
      "image/png": "[encoded data removed]",
      "text/plain": [
       "<Figure size 432x288 with 2 Axes>"
      ]
     },
     "metadata": {
      "needs_background": "light"
     },
     "output_type": "display_data"
    }
   ],
   "source": [
    "sns.heatmap(correlacao, annot = True, fmt=\".1f\")\n",
    "plt.show()"
   ]
  },
  {
   "cell_type": "code",
   "execution_count": 517,
   "id": "79b81f21",
   "metadata": {},
   "outputs": [],
   "source": [
    "top10 = list(horas_fim_de_semana.tipo_infracao.value_counts().head(10).index)\n",
    "infracoes = pd.DataFrame()\n",
    "for i in top10:\n",
    "    total = horas_fim_de_semana[horas_fim_de_semana.tipo_infracao == i].Hora.value_counts().sort_index()\n",
    "    infracoes[i] = total"
   ]
  },
  {
   "cell_type": "code",
   "execution_count": 518,
   "id": "a529f9fb",
   "metadata": {},
   "outputs": [],
   "source": [
    "infracoes['total'] = graf1.values"
   ]
  },
  {
   "cell_type": "code",
   "execution_count": 519,
   "id": "f720e17e",
   "metadata": {},
   "outputs": [],
   "source": [
    "correlacao = infracoes.corr()"
   ]
  },
  {
   "cell_type": "code",
   "execution_count": 520,
   "id": "a740b462",
   "metadata": {},
   "outputs": [
    {
     "data": {
      "image/png": "[encoded data removed]",
      "text/plain": [
       "<Figure size 432x288 with 2 Axes>"
      ]
     },
     "metadata": {
      "needs_background": "light"
     },
     "output_type": "display_data"
    }
   ],
   "source": [
    "sns.heatmap(correlacao, annot = True, fmt=\".1f\")\n",
    "plt.show()"
   ]
  },
  {
   "cell_type": "code",
   "execution_count": 521,
   "id": "a2c71383",
   "metadata": {
    "scrolled": true
   },
   "outputs": [
    {
     "data": {
      "text/html": [
       "<div>\n",
       "<style scoped>\n",
       "    .dataframe tbody tr th:only-of-type {\n",
       "        vertical-align: middle;\n",
       "    }\n",
       "\n",
       "    .dataframe tbody tr th {\n",
       "        vertical-align: top;\n",
       "    }\n",
       "\n",
       "    .dataframe thead th {\n",
       "        text-align: right;\n",
       "    }\n",
       "</style>\n",
       "<table border=\"1\" class=\"dataframe\">\n",
       "  <thead>\n",
       "    <tr style=\"text-align: right;\">\n",
       "      <th></th>\n",
       "      <th></th>\n",
       "      <th>total</th>\n",
       "    </tr>\n",
       "    <tr>\n",
       "      <th>descricao</th>\n",
       "      <th>tipo_infracao</th>\n",
       "      <th></th>\n",
       "    </tr>\n",
       "  </thead>\n",
       "  <tbody>\n",
       "    <tr>\n",
       "      <th>Transitar em velocidade superior à máxima permitida em até 20%</th>\n",
       "      <th>7455-0</th>\n",
       "      <td>209098</td>\n",
       "    </tr>\n",
       "    <tr>\n",
       "      <th>Transitar em velocidade superior à máxima permitida em mais de 20% até 50%</th>\n",
       "      <th>7463-0</th>\n",
       "      <td>12048</td>\n",
       "    </tr>\n",
       "    <tr>\n",
       "      <th>Conduzir veíc c/ defeito no sist de iluminação, sinaliz ou lâmpadas queimadas</th>\n",
       "      <th>6769-0</th>\n",
       "      <td>4148</td>\n",
       "    </tr>\n",
       "    <tr>\n",
       "      <th>Deixar o condutor de usar o cinto segurança</th>\n",
       "      <th>5185-1</th>\n",
       "      <td>3317</td>\n",
       "    </tr>\n",
       "    <tr>\n",
       "      <th>Recusar-se a ser submetido a teste, exame clínico, perícia ou outro procedimento que permita certificar influência de álcool ou outra substância psicoativa, na forma estabelecida pelo art. 277.</th>\n",
       "      <th>7579-0</th>\n",
       "      <td>3264</td>\n",
       "    </tr>\n",
       "    <tr>\n",
       "      <th>Deixar o passageiro de usar o cinto segurança</th>\n",
       "      <th>5185-2</th>\n",
       "      <td>1267</td>\n",
       "    </tr>\n",
       "    <tr>\n",
       "      <th>Transitar em velocidade superior à máxima permitida em mais de 50%</th>\n",
       "      <th>7471-0</th>\n",
       "      <td>1256</td>\n",
       "    </tr>\n",
       "    <tr>\n",
       "      <th>Dirigir veículo manuseando telefone celular</th>\n",
       "      <th>7633-2</th>\n",
       "      <td>1076</td>\n",
       "    </tr>\n",
       "    <tr>\n",
       "      <th>Dirigir veículo sem possuir CNH/PPD/ACC</th>\n",
       "      <th>5010-0</th>\n",
       "      <td>1062</td>\n",
       "    </tr>\n",
       "    <tr>\n",
       "      <th>Deixar de indicar c/ antec, med gesto de braço/luz indicadora, mudança de faixa</th>\n",
       "      <th>5843-4</th>\n",
       "      <td>987</td>\n",
       "    </tr>\n",
       "  </tbody>\n",
       "</table>\n",
       "</div>"
      ],
      "text/plain": [
       "                                                                   total\n",
       "descricao                                          tipo_infracao        \n",
       "Transitar em velocidade superior à máxima permi... 7455-0         209098\n",
       "Transitar em velocidade superior à máxima permi... 7463-0          12048\n",
       "Conduzir veíc c/ defeito no sist de iluminação,... 6769-0           4148\n",
       "Deixar o condutor de usar o cinto segurança        5185-1           3317\n",
       "Recusar-se a ser submetido a teste, exame clíni... 7579-0           3264\n",
       "Deixar o passageiro de usar o cinto segurança      5185-2           1267\n",
       "Transitar em velocidade superior à máxima permi... 7471-0           1256\n",
       "Dirigir veículo manuseando telefone celular        7633-2           1076\n",
       "Dirigir veículo sem possuir CNH/PPD/ACC            5010-0           1062\n",
       "Deixar de indicar c/ antec, med gesto de braço/... 5843-4            987"
      ]
     },
     "execution_count": 521,
     "metadata": {},
     "output_type": "execute_result"
    }
   ],
   "source": [
    "horas_fim_de_semana[['descricao', 'tipo_infracao']].value_counts().to_frame('total').head(10)"
   ]
  },
  {
   "cell_type": "code",
   "execution_count": null,
   "id": "08d44a04",
   "metadata": {},
   "outputs": [],
   "source": []
  }
 ],
 "metadata": {
  "kernelspec": {
   "display_name": "Python 3 (ipykernel)",
   "language": "python",
   "name": "python3"
  },
  "language_info": {
   "codemirror_mode": {
    "name": "ipython",
    "version": 3
   },
   "file_extension": ".py",
   "mimetype": "text/x-python",
   "name": "python",
   "nbconvert_exporter": "python",
   "pygments_lexer": "ipython3",
   "version": "3.9.7"
  }
 },
 "nbformat": 4,
 "nbformat_minor": 5
}
