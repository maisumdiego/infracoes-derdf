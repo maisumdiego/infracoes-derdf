{
 "cells": [
  {
   "cell_type": "code",
   "execution_count": 1,
   "id": "8f9e462e",
   "metadata": {},
   "outputs": [],
   "source": [
    "import pandas as pd\n",
    "from glob import glob\n",
    "import seaborn as sns\n",
    "import matplotlib.pyplot as plt\n",
    "%matplotlib inline"
   ]
  },
  {
   "cell_type": "markdown",
   "id": "8371a330",
   "metadata": {},
   "source": [
    "# Exploração e limpeza de dados"
   ]
  },
  {
   "cell_type": "code",
   "execution_count": 2,
   "id": "494bb2c3",
   "metadata": {},
   "outputs": [],
   "source": [
    "arquivos = sorted(glob('BaseDados/dados-abertos-*.csv'))"
   ]
  },
  {
   "cell_type": "code",
   "execution_count": 3,
   "id": "cf7cc128",
   "metadata": {},
   "outputs": [],
   "source": [
    "i = range(1,10)"
   ]
  },
  {
   "cell_type": "code",
   "execution_count": 4,
   "id": "a583c13b",
   "metadata": {},
   "outputs": [],
   "source": [
    "dados = pd.concat((pd.read_csv(arquivo, \n",
    "                               sep = ';', \n",
    "                               encoding = 'utf-8', \n",
    "                               dtype='unicode') for arquivo in arquivos), \n",
    "                      ignore_index=True)"
   ]
  },
  {
   "cell_type": "code",
   "execution_count": 5,
   "id": "251b3988",
   "metadata": {},
   "outputs": [
    {
     "name": "stdout",
     "output_type": "stream",
     "text": [
      "<class 'pandas.core.frame.DataFrame'>\n",
      "RangeIndex: 1070670 entries, 0 to 1070669\n",
      "Data columns (total 13 columns):\n",
      " #   Column                   Non-Null Count    Dtype \n",
      "---  ------                   --------------    ----- \n",
      " 0   tipo_infracao            1070670 non-null  object\n",
      " 1   descricao                1070670 non-null  object\n",
      " 2   tipo_infrator            1070670 non-null  object\n",
      " 3   tipo_veiculo             1070623 non-null  object\n",
      " 4   cometimento              1070670 non-null  object\n",
      " 5   hora_cometimento         1070670 non-null  object\n",
      " 6   auinf_local_rodovia      1070351 non-null  object\n",
      " 7   auinf_local_km           196942 non-null   object\n",
      " 8   auinf_local_referencia   188953 non-null   object\n",
      " 9   auinf_local_complemento  30079 non-null    object\n",
      " 10  auinf_local_latitude     185666 non-null   object\n",
      " 11  auinf_local_longitude    185666 non-null   object\n",
      " 12  grav_tipo                1070670 non-null  object\n",
      "dtypes: object(13)\n",
      "memory usage: 106.2+ MB\n"
     ]
    }
   ],
   "source": [
    "dados.info()"
   ]
  },
  {
   "cell_type": "markdown",
   "id": "bf249c1b",
   "metadata": {},
   "source": [
    "<b>Eliminando as colunas que não serão utilizadas no relatório</b>"
   ]
  },
  {
   "cell_type": "code",
   "execution_count": 6,
   "id": "074acda8",
   "metadata": {},
   "outputs": [],
   "source": [
    "dados.drop(columns=['auinf_local_km', \n",
    "                    'auinf_local_referencia', \n",
    "                    'auinf_local_complemento', \n",
    "                    'auinf_local_latitude', \n",
    "                    'auinf_local_longitude'],\n",
    "           inplace=True)"
   ]
  },
  {
   "cell_type": "markdown",
   "id": "6d192a9d",
   "metadata": {},
   "source": [
    "<b>Limpando dados da coluna tipo_veiculo</b>"
   ]
  },
  {
   "cell_type": "code",
   "execution_count": 7,
   "id": "102359f7",
   "metadata": {},
   "outputs": [],
   "source": [
    "dados.tipo_veiculo = dados.tipo_veiculo.str.strip()"
   ]
  },
  {
   "cell_type": "code",
   "execution_count": 8,
   "id": "2886ef65",
   "metadata": {},
   "outputs": [],
   "source": [
    "veiculo = ['Automóvel', 'Trator', 'Caminhão', 'Caminhonete', 'Microônibus', 'Utilitário', 'Semi-Reboque', 'Motorhome',\n",
    "         'Motocicleta', 'Ônibus', 'Outros Ciclomotores', 'Outros']\n",
    "\n",
    "correcao = [['Automovel'], ['C. Trator', 'Caminhao Trator', 'Caminhão Trator'], ['Caminhao'], ['Caminhonet', 'Camioneta'],\n",
    "            ['Microonibu', 'Microonibus'], ['Utilitario'], ['S.Reboque'], ['Motor Casa', 'Motor-Casa'], ['Motociclet'],\n",
    "            ['Onibus'], ['Triciclo', 'Ciclomotor'], \n",
    "            ['Bonde', 'Carro-De-Mão', 'Charrete', 'Chassi Plataforma', 'Side-Car', 'Tr Misto', 'Tr Rodas']]\n",
    "\n",
    "for z in range(len(veiculo)):\n",
    "    dados['tipo_veiculo'].replace(correcao[z], veiculo[z], inplace=True)"
   ]
  },
  {
   "cell_type": "code",
   "execution_count": 9,
   "id": "0591580c",
   "metadata": {},
   "outputs": [],
   "source": [
    "dados.tipo_veiculo.fillna('Sem informação', inplace=True)"
   ]
  },
  {
   "cell_type": "code",
   "execution_count": 10,
   "id": "a4b97341",
   "metadata": {},
   "outputs": [
    {
     "data": {
      "text/plain": [
       "array(['Automóvel', 'Caminhonete', 'Motocicleta', 'Utilitário', 'Ônibus',\n",
       "       'Motoneta', 'Caminhão', 'Reboque', 'Microônibus', 'Trator',\n",
       "       'Semi-Reboque', 'Sem informação', 'Motorhome',\n",
       "       'Outros Ciclomotores', 'Outros', 'Bicicleta', 'Quadriciclo'],\n",
       "      dtype=object)"
      ]
     },
     "execution_count": 10,
     "metadata": {},
     "output_type": "execute_result"
    }
   ],
   "source": [
    "dados.tipo_veiculo.unique()"
   ]
  },
  {
   "cell_type": "markdown",
   "id": "7997657b",
   "metadata": {},
   "source": [
    "<b>Exportando dados para análise no Power BI</b>"
   ]
  },
  {
   "cell_type": "code",
   "execution_count": 13,
   "id": "d7db4453",
   "metadata": {},
   "outputs": [],
   "source": [
    "#dados.to_csv('arq_infracoes_bsb21.csv', index=False)"
   ]
  }
 ],
 "metadata": {
  "kernelspec": {
   "display_name": "Python 3 (ipykernel)",
   "language": "python",
   "name": "python3"
  },
  "language_info": {
   "codemirror_mode": {
    "name": "ipython",
    "version": 3
   },
   "file_extension": ".py",
   "mimetype": "text/x-python",
   "name": "python",
   "nbconvert_exporter": "python",
   "pygments_lexer": "ipython3",
   "version": "3.9.7"
  }
 },
 "nbformat": 4,
 "nbformat_minor": 5
}
